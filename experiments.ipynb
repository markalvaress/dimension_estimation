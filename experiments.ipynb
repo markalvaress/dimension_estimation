{
 "cells": [
  {
   "cell_type": "code",
   "execution_count": 10,
   "metadata": {},
   "outputs": [],
   "source": [
    "import estimators\n",
    "import math_helpers as mh\n",
    "import constants\n",
    "import matplotlib.pyplot as plt\n",
    "import importlib\n",
    "import numpy as np"
   ]
  },
  {
   "cell_type": "code",
   "execution_count": null,
   "metadata": {},
   "outputs": [],
   "source": [
    "importlib.reload(estimators)"
   ]
  },
  {
   "cell_type": "code",
   "execution_count": 14,
   "metadata": {},
   "outputs": [],
   "source": [
    "# Set parameters:\n",
    "d = 3           # actual intrinsic dimension of manifold\n",
    "D = d+1         # ambient dimension - since we're using spheres, these will all sit in R^(d+1)\n",
    "m = 1000        # number of points in our data set sampled (noisily) from the manifold\n",
    "eta = 1/(3*D)    # parameter for dimension estimation (threshold)\n",
    "R_sphere = 20   # radius of sphere\n",
    "tau = R_sphere  # the \"reach\" of our manifold - i.e. how much we can fatten it without self intersection\n",
    "s = 0.5         # size to bound the noise around the manifold\n",
    "r = 3           # radius of open ball to use as neighbourhood when estimating dimension\n",
    "delta = 0.5     # parameter controlling how sure you are of your dimension estimate\n",
    "rho = 0.5       # parameter that controls what proportion of your guesses you want to be correct\n",
    "w_d = mh.ball_volume(d, 1)  # volume of unit ball in d dimensions\n",
    "alpha = 1/R_sphere          # Lipschitz constant of probability density function\n",
    "phi_min = 2**(-d*(d-1)/4)    # min of probability density function\n",
    "phi_max = 1                 # max of ..."
   ]
  },
  {
   "cell_type": "markdown",
   "metadata": {},
   "source": [
    "## Do these parameters meet the bounds?"
   ]
  },
  {
   "cell_type": "code",
   "execution_count": 15,
   "metadata": {},
   "outputs": [
    {
     "name": "stdout",
     "output_type": "stream",
     "text": [
      "eta < 1/(2*D)=True\n",
      "r >= np.sqrt(2*tau*s)=False\n",
      "r <= S1=False\n",
      "m*r**d/np.log(m) >= S2=False\n"
     ]
    }
   ],
   "source": [
    "S1 = constants.S1_dimension(d, D, eta, alpha, tau, phi_min, phi_max)\n",
    "S2 = constants.S2_dimension(d, D, eta, w_d, delta, rho, phi_min)\n",
    "\n",
    "print(f\"{eta < 1/(2*D)=}\")\n",
    "print(f\"{r >= np.sqrt(2*tau*s)=}\")\n",
    "print(f\"{r <= S1=}\")\n",
    "print(f\"{m*r**d/np.log(m) >= S2=}\")"
   ]
  },
  {
   "cell_type": "code",
   "execution_count": 12,
   "metadata": {},
   "outputs": [
    {
     "data": {
      "text/plain": [
       "4.47213595499958"
      ]
     },
     "execution_count": 12,
     "metadata": {},
     "output_type": "execute_result"
    }
   ],
   "source": [
    "np.sqrt(2*tau*s)"
   ]
  },
  {
   "cell_type": "code",
   "execution_count": 16,
   "metadata": {},
   "outputs": [
    {
     "data": {
      "text/plain": [
       "3.046193398411857e-07"
      ]
     },
     "execution_count": 16,
     "metadata": {},
     "output_type": "execute_result"
    }
   ],
   "source": [
    "S1 # how tf am I going to reconcile these"
   ]
  },
  {
   "cell_type": "markdown",
   "metadata": {},
   "source": [
    "## Experimenting"
   ]
  },
  {
   "cell_type": "code",
   "execution_count": null,
   "metadata": {},
   "outputs": [],
   "source": [
    "X = estimators.noisy_sphere(d, R_sphere, s, m)"
   ]
  },
  {
   "cell_type": "code",
   "execution_count": null,
   "metadata": {},
   "outputs": [],
   "source": [
    "fig = plt.figure()\n",
    "ax = fig.add_subplot(projection = '3d')\n",
    "\n",
    "ax.scatter(X[:,0], X[:,1], X[:,2])\n",
    "plt.show()"
   ]
  },
  {
   "cell_type": "code",
   "execution_count": null,
   "metadata": {},
   "outputs": [],
   "source": [
    "# how do we choose threshold eta?\n",
    "# theorem B: eta needs to be less than 1/(2D), where D is the ambient dimension\n",
    "\n",
    "d, P = estimators.tgt_and_dim_estimators(X, 3, 0.001)\n",
    "d"
   ]
  }
 ],
 "metadata": {
  "kernelspec": {
   "display_name": "Python 3",
   "language": "python",
   "name": "python3"
  },
  "language_info": {
   "codemirror_mode": {
    "name": "ipython",
    "version": 3
   },
   "file_extension": ".py",
   "mimetype": "text/x-python",
   "name": "python",
   "nbconvert_exporter": "python",
   "pygments_lexer": "ipython3",
   "version": "3.11.4"
  }
 },
 "nbformat": 4,
 "nbformat_minor": 2
}
