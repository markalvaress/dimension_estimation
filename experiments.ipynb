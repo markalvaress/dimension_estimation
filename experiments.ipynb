{
 "cells": [
  {
   "cell_type": "markdown",
   "metadata": {},
   "source": [
    "# Intrinsic dimension estimation experiments"
   ]
  },
  {
   "cell_type": "code",
   "execution_count": null,
   "metadata": {},
   "outputs": [],
   "source": [
    "import math_helpers as mh\n",
    "import estimators\n",
    "import numpy as np\n",
    "import matplotlib.pyplot as plt"
   ]
  },
  {
   "cell_type": "markdown",
   "metadata": {},
   "source": [
    "## How does the size of the noise affect the accuracy?"
   ]
  },
  {
   "cell_type": "code",
   "execution_count": null,
   "metadata": {},
   "outputs": [],
   "source": [
    "# Set parameters:\n",
    "d = 2           # actual intrinsic dimension of manifold\n",
    "D = d+1         # ambient dimension - since we're using spheres, these will all sit in R^(d+1)\n",
    "m = 1000        # number of points in our data set sampled (noisily) from the manifold\n",
    "eta = 1/(2.001*D)    # parameter for dimension estimation (threshold)\n",
    "R_sphere = 20   # radius of sphere\n",
    "s = 1       # size to bound the noise around the manifold\n",
    "r = 5           # radius of open ball to use as neighbourhood when estimating dimension\n",
    "\n",
    "seed = 32"
   ]
  },
  {
   "cell_type": "code",
   "execution_count": null,
   "metadata": {},
   "outputs": [],
   "source": [
    "print(eta)"
   ]
  },
  {
   "cell_type": "code",
   "execution_count": null,
   "metadata": {},
   "outputs": [],
   "source": [
    "num_tests = 10\n",
    "ss = np.linspace(0, r, num_tests)\n",
    "prop_correct = np.zeros(num_tests)\n",
    "\n",
    "for i, s in enumerate(ss):\n",
    "    X = mh.noisy_sphere(d, R_sphere, s, m, seed)\n",
    "    results = estimators.tgt_and_dim_estimates(X, r, eta)\n",
    "    estimated_dimensions = np.array([res[1] for res in results])\n",
    "    prop_correct[i] = np.sum(estimated_dimensions == d) / m"
   ]
  },
  {
   "cell_type": "code",
   "execution_count": null,
   "metadata": {},
   "outputs": [],
   "source": [
    "plt.figure(figsize = (6, 6), dpi = 300)\n",
    "\n",
    "plt.scatter(ss/R_sphere, prop_correct)\n",
    "plt.xlabel(r\"$s/\\tau$\")\n",
    "plt.ylabel(\"Accuracy\")\n",
    "plt.title(f\"Accuracy drops as noise level increases.\")\n",
    "\n",
    "plt.show()"
   ]
  },
  {
   "cell_type": "markdown",
   "metadata": {},
   "source": [
    "## Higher dimensions"
   ]
  },
  {
   "cell_type": "code",
   "execution_count": null,
   "metadata": {},
   "outputs": [],
   "source": [
    "R_sphere = 20\n",
    "d = 3\n",
    "D = d+1\n",
    "eta = 1/(2.001*D)    # parameter for dimension estimation (threshold)\n",
    "r = 5\n",
    "m = 1000*R_sphere # the surface area scales by approx R_sphere for each dimension we add\n",
    "s = 0.2*R_sphere"
   ]
  },
  {
   "cell_type": "code",
   "execution_count": null,
   "metadata": {},
   "outputs": [],
   "source": [
    "print(f\"{s=}\")\n",
    "print(f\"{eta=}\")"
   ]
  },
  {
   "cell_type": "code",
   "execution_count": null,
   "metadata": {},
   "outputs": [],
   "source": [
    "X = mh.noisy_sphere(d, R_sphere, s, m, seed)\n",
    "np.save(\"X_S3.npy\", X)"
   ]
  },
  {
   "cell_type": "markdown",
   "metadata": {},
   "source": [
    "Now you have to do a little trickery in order to parallelise the computation: in this folder, open up the command line and run the dimension estimation script with `python .\\run_estimation_script.py X_S3.npy <r> <eta> dim_estims_S3.npy [<verbose>]`, replacing `r` and `eta` with the actual values and setting `verbose` to True if you want to see more logging details as the script is running."
   ]
  },
  {
   "cell_type": "code",
   "execution_count": null,
   "metadata": {},
   "outputs": [],
   "source": [
    "dim_estimates = np.load(\"dim_estims_S3.npy\")"
   ]
  },
  {
   "cell_type": "code",
   "execution_count": null,
   "metadata": {},
   "outputs": [],
   "source": [
    "prop_correct_S3 = sum(dim_estimates == 3) / len(dim_estimates)\n",
    "print(\"Proportion of correct estimates:\", prop_correct_S3)"
   ]
  }
 ],
 "metadata": {
  "kernelspec": {
   "display_name": "Python 3",
   "language": "python",
   "name": "python3"
  },
  "language_info": {
   "codemirror_mode": {
    "name": "ipython",
    "version": 3
   },
   "file_extension": ".py",
   "mimetype": "text/x-python",
   "name": "python",
   "nbconvert_exporter": "python",
   "pygments_lexer": "ipython3",
   "version": "3.11.4"
  }
 },
 "nbformat": 4,
 "nbformat_minor": 2
}
