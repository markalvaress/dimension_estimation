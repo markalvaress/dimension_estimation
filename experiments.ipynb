{
 "cells": [
  {
   "cell_type": "markdown",
   "metadata": {},
   "source": [
    "# Intrinsic dimension estimation experiments"
   ]
  },
  {
   "cell_type": "code",
   "execution_count": 9,
   "metadata": {},
   "outputs": [],
   "source": [
    "import math_helpers as mh\n",
    "import constants\n",
    "import estimators\n",
    "import numpy as np\n",
    "import matplotlib.pyplot as plt"
   ]
  },
  {
   "cell_type": "code",
   "execution_count": 11,
   "metadata": {},
   "outputs": [
    {
     "data": {
      "text/plain": [
       "<module 'estimators' from 'c:\\\\Users\\\\marka\\\\OneDrive\\\\Documents\\\\Uni\\\\Edinburgh Uni\\\\RSCAM\\\\S2 paper review\\\\numerical_experiments\\\\estimators.py'>"
      ]
     },
     "execution_count": 11,
     "metadata": {},
     "output_type": "execute_result"
    }
   ],
   "source": [
    "import importlib\n",
    "importlib.reload(mh)\n",
    "importlib.reload(estimators)"
   ]
  },
  {
   "cell_type": "code",
   "execution_count": 1,
   "metadata": {},
   "outputs": [],
   "source": [
    "# Set parameters:\n",
    "d = 2           # actual intrinsic dimension of manifold\n",
    "D = d+1         # ambient dimension - since we're using spheres, these will all sit in R^(d+1)\n",
    "m = 1000        # number of points in our data set sampled (noisily) from the manifold\n",
    "eta = 1/(2.001*D)    # parameter for dimension estimation (threshold)\n",
    "R_sphere = 20   # radius of sphere\n",
    "s = 1       # size to bound the noise around the manifold\n",
    "r = 5           # radius of open ball to use as neighbourhood when estimating dimension"
   ]
  },
  {
   "cell_type": "markdown",
   "metadata": {},
   "source": [
    "## How does the size of the noise affect the accuracy?"
   ]
  },
  {
   "cell_type": "code",
   "execution_count": 67,
   "metadata": {},
   "outputs": [
    {
     "name": "stderr",
     "output_type": "stream",
     "text": [
      "c:\\Users\\marka\\OneDrive\\Documents\\Uni\\Edinburgh Uni\\RSCAM\\S2 paper review\\numerical_experiments\\estimators.py:25: UserWarning: Warning: no points found within radius 5 of the 979th point in X.\n",
      "  warnings.warn(f\"Warning: no points found within radius {r} of the {i}th point in X.\")\n",
      "c:\\Users\\marka\\OneDrive\\Documents\\Uni\\Edinburgh Uni\\RSCAM\\S2 paper review\\numerical_experiments\\estimators.py:25: UserWarning: Warning: no points found within radius 5 of the 926th point in X.\n",
      "  warnings.warn(f\"Warning: no points found within radius {r} of the {i}th point in X.\")\n"
     ]
    }
   ],
   "source": [
    "num_tests = 10\n",
    "ss = np.linspace(0, r, num_tests)\n",
    "prop_correct = np.zeros(num_tests)\n",
    "\n",
    "for i, s in enumerate(ss):\n",
    "    X = mh.noisy_sphere(d, R_sphere, s, m)\n",
    "    results = estimators.tgt_and_dim_estimates(X, r, eta)\n",
    "    estimated_dimensions = np.array([res[1] for res in results])\n",
    "    prop_correct[i] = np.sum(estimated_dimensions == d) / m"
   ]
  },
  {
   "cell_type": "code",
   "execution_count": null,
   "metadata": {},
   "outputs": [],
   "source": [
    "fig = plt.figure()\n",
    "ax = fig.add_subplot(projection = '3d')\n",
    "\n",
    "ax.scatter(X[:,0], X[:,1], X[:,2])\n",
    "plt.show()"
   ]
  },
  {
   "cell_type": "code",
   "execution_count": 74,
   "metadata": {},
   "outputs": [
    {
     "data": {
      "image/png": "[encoded data removed]",
      "text/plain": [
       "<Figure size 640x480 with 1 Axes>"
      ]
     },
     "metadata": {},
     "output_type": "display_data"
    }
   ],
   "source": [
    "plt.scatter(ss/R_sphere, prop_correct)\n",
    "plt.xlabel(r\"$s/\\tau$\")\n",
    "plt.ylabel(\"Accuracy\")\n",
    "plt.title(f\"{r=}, {d=}, {R_sphere=}, {m=}\")\n",
    "\n",
    "plt.show()"
   ]
  },
  {
   "cell_type": "markdown",
   "metadata": {},
   "source": [
    "## Higher dimensions"
   ]
  },
  {
   "cell_type": "code",
   "execution_count": 12,
   "metadata": {},
   "outputs": [
    {
     "name": "stdout",
     "output_type": "stream",
     "text": [
      "s=0.0\n",
      "Estimating dimension and tangent space for point  0\n",
      "Estimating dimension and tangent space for point  100\n",
      "Estimating dimension and tangent space for point  200\n"
     ]
    },
    {
     "ename": "KeyboardInterrupt",
     "evalue": "",
     "output_type": "error",
     "traceback": [
      "\u001b[1;31m---------------------------------------------------------------------------\u001b[0m",
      "\u001b[1;31mKeyboardInterrupt\u001b[0m                         Traceback (most recent call last)",
      "Cell \u001b[1;32mIn[12], line 10\u001b[0m\n\u001b[0;32m      8\u001b[0m \u001b[38;5;28mprint\u001b[39m(\u001b[38;5;124mf\u001b[39m\u001b[38;5;124m\"\u001b[39m\u001b[38;5;132;01m{\u001b[39;00ms\u001b[38;5;132;01m=}\u001b[39;00m\u001b[38;5;124m\"\u001b[39m)\n\u001b[0;32m      9\u001b[0m X \u001b[38;5;241m=\u001b[39m mh\u001b[38;5;241m.\u001b[39mnoisy_sphere(d, R_sphere, s, m)\n\u001b[1;32m---> 10\u001b[0m results \u001b[38;5;241m=\u001b[39m \u001b[43mestimators\u001b[49m\u001b[38;5;241;43m.\u001b[39;49m\u001b[43mtgt_and_dim_estimates\u001b[49m\u001b[43m(\u001b[49m\u001b[43mX\u001b[49m\u001b[43m,\u001b[49m\u001b[43m \u001b[49m\u001b[43mr\u001b[49m\u001b[43m,\u001b[49m\u001b[43m \u001b[49m\u001b[43meta\u001b[49m\u001b[43m,\u001b[49m\u001b[43m \u001b[49m\u001b[43mverbose\u001b[49m\u001b[43m \u001b[49m\u001b[38;5;241;43m=\u001b[39;49m\u001b[43m \u001b[49m\u001b[38;5;28;43;01mTrue\u001b[39;49;00m\u001b[43m)\u001b[49m\n\u001b[0;32m     11\u001b[0m estimated_dimensions \u001b[38;5;241m=\u001b[39m np\u001b[38;5;241m.\u001b[39marray([res[\u001b[38;5;241m1\u001b[39m] \u001b[38;5;28;01mfor\u001b[39;00m res \u001b[38;5;129;01min\u001b[39;00m results])\n\u001b[0;32m     12\u001b[0m prop_correct_3d[i] \u001b[38;5;241m=\u001b[39m np\u001b[38;5;241m.\u001b[39msum(estimated_dimensions \u001b[38;5;241m==\u001b[39m d) \u001b[38;5;241m/\u001b[39m m\n",
      "File \u001b[1;32mc:\\Users\\marka\\OneDrive\\Documents\\Uni\\Edinburgh Uni\\RSCAM\\S2 paper review\\numerical_experiments\\estimators.py:103\u001b[0m, in \u001b[0;36mtgt_and_dim_estimates\u001b[1;34m(X, r, eta, verbose)\u001b[0m\n\u001b[0;32m     86\u001b[0m \u001b[38;5;250m\u001b[39m\u001b[38;5;124;03m\"\"\"Estimate the intrinsic dimension and the tangent space at every single point in X.\u001b[39;00m\n\u001b[0;32m     87\u001b[0m \n\u001b[0;32m     88\u001b[0m \u001b[38;5;124;03mArgs:\u001b[39;00m\n\u001b[1;32m   (...)\u001b[0m\n\u001b[0;32m     96\u001b[0m \u001b[38;5;124;03m    d, the estimated intrinsic dimension; and T, a matrix with rows representing d points in R^D, and the span of these is the estimated tangent space.\u001b[39;00m\n\u001b[0;32m     97\u001b[0m \u001b[38;5;124;03m\"\"\"\u001b[39;00m\n\u001b[0;32m     98\u001b[0m \u001b[38;5;66;03m## this was the attempt to parallelise but it didn't work - I'd need to call it as a module.\u001b[39;00m\n\u001b[0;32m     99\u001b[0m \u001b[38;5;66;03m# num_processes = multiprocessing.cpu_count()\u001b[39;00m\n\u001b[0;32m    100\u001b[0m \u001b[38;5;66;03m# with Pool(num_processes) as p:\u001b[39;00m\n\u001b[0;32m    101\u001b[0m \u001b[38;5;66;03m#     results = p.map(lambda i: tgt_and_dim_estimate_1point(X, i, r, eta), range(len(X)))\u001b[39;00m\n\u001b[1;32m--> 103\u001b[0m results \u001b[38;5;241m=\u001b[39m \u001b[43m[\u001b[49m\u001b[43mtgt_and_dim_estimate_1point\u001b[49m\u001b[43m(\u001b[49m\u001b[43mX\u001b[49m\u001b[43m,\u001b[49m\u001b[43m \u001b[49m\u001b[43mi\u001b[49m\u001b[43m,\u001b[49m\u001b[43m \u001b[49m\u001b[43mr\u001b[49m\u001b[43m,\u001b[49m\u001b[43m \u001b[49m\u001b[43meta\u001b[49m\u001b[43m,\u001b[49m\u001b[43m \u001b[49m\u001b[43mverbose\u001b[49m\u001b[43m)\u001b[49m\u001b[43m \u001b[49m\u001b[38;5;28;43;01mfor\u001b[39;49;00m\u001b[43m \u001b[49m\u001b[43mi\u001b[49m\u001b[43m \u001b[49m\u001b[38;5;129;43;01min\u001b[39;49;00m\u001b[43m \u001b[49m\u001b[38;5;28;43mrange\u001b[39;49m\u001b[43m(\u001b[49m\u001b[38;5;28;43mlen\u001b[39;49m\u001b[43m(\u001b[49m\u001b[43mX\u001b[49m\u001b[43m)\u001b[49m\u001b[43m)\u001b[49m\u001b[43m]\u001b[49m\n\u001b[0;32m    105\u001b[0m \u001b[38;5;28;01mreturn\u001b[39;00m results\n",
      "File \u001b[1;32mc:\\Users\\marka\\OneDrive\\Documents\\Uni\\Edinburgh Uni\\RSCAM\\S2 paper review\\numerical_experiments\\estimators.py:103\u001b[0m, in \u001b[0;36m<listcomp>\u001b[1;34m(.0)\u001b[0m\n\u001b[0;32m     86\u001b[0m \u001b[38;5;250m\u001b[39m\u001b[38;5;124;03m\"\"\"Estimate the intrinsic dimension and the tangent space at every single point in X.\u001b[39;00m\n\u001b[0;32m     87\u001b[0m \n\u001b[0;32m     88\u001b[0m \u001b[38;5;124;03mArgs:\u001b[39;00m\n\u001b[1;32m   (...)\u001b[0m\n\u001b[0;32m     96\u001b[0m \u001b[38;5;124;03m    d, the estimated intrinsic dimension; and T, a matrix with rows representing d points in R^D, and the span of these is the estimated tangent space.\u001b[39;00m\n\u001b[0;32m     97\u001b[0m \u001b[38;5;124;03m\"\"\"\u001b[39;00m\n\u001b[0;32m     98\u001b[0m \u001b[38;5;66;03m## this was the attempt to parallelise but it didn't work - I'd need to call it as a module.\u001b[39;00m\n\u001b[0;32m     99\u001b[0m \u001b[38;5;66;03m# num_processes = multiprocessing.cpu_count()\u001b[39;00m\n\u001b[0;32m    100\u001b[0m \u001b[38;5;66;03m# with Pool(num_processes) as p:\u001b[39;00m\n\u001b[0;32m    101\u001b[0m \u001b[38;5;66;03m#     results = p.map(lambda i: tgt_and_dim_estimate_1point(X, i, r, eta), range(len(X)))\u001b[39;00m\n\u001b[1;32m--> 103\u001b[0m results \u001b[38;5;241m=\u001b[39m [\u001b[43mtgt_and_dim_estimate_1point\u001b[49m\u001b[43m(\u001b[49m\u001b[43mX\u001b[49m\u001b[43m,\u001b[49m\u001b[43m \u001b[49m\u001b[43mi\u001b[49m\u001b[43m,\u001b[49m\u001b[43m \u001b[49m\u001b[43mr\u001b[49m\u001b[43m,\u001b[49m\u001b[43m \u001b[49m\u001b[43meta\u001b[49m\u001b[43m,\u001b[49m\u001b[43m \u001b[49m\u001b[43mverbose\u001b[49m\u001b[43m)\u001b[49m \u001b[38;5;28;01mfor\u001b[39;00m i \u001b[38;5;129;01min\u001b[39;00m \u001b[38;5;28mrange\u001b[39m(\u001b[38;5;28mlen\u001b[39m(X))]\n\u001b[0;32m    105\u001b[0m \u001b[38;5;28;01mreturn\u001b[39;00m results\n",
      "File \u001b[1;32mc:\\Users\\marka\\OneDrive\\Documents\\Uni\\Edinburgh Uni\\RSCAM\\S2 paper review\\numerical_experiments\\estimators.py:66\u001b[0m, in \u001b[0;36mtgt_and_dim_estimate_1point\u001b[1;34m(X, i, r, eta, verbose)\u001b[0m\n\u001b[0;32m     63\u001b[0m m_X, D \u001b[38;5;241m=\u001b[39m X\u001b[38;5;241m.\u001b[39mshape\n\u001b[0;32m     65\u001b[0m \u001b[38;5;66;03m# take only points within the ball of radius r centred on the pt\u001b[39;00m\n\u001b[1;32m---> 66\u001b[0m W \u001b[38;5;241m=\u001b[39m \u001b[43mopen_ball_subset\u001b[49m\u001b[43m(\u001b[49m\u001b[43mX\u001b[49m\u001b[43m,\u001b[49m\u001b[43m \u001b[49m\u001b[43mi\u001b[49m\u001b[43m,\u001b[49m\u001b[43m \u001b[49m\u001b[43mr\u001b[49m\u001b[43m)\u001b[49m\n\u001b[0;32m     67\u001b[0m \u001b[38;5;28;01mif\u001b[39;00m W \u001b[38;5;129;01mis\u001b[39;00m \u001b[38;5;28;01mNone\u001b[39;00m:\n\u001b[0;32m     68\u001b[0m     \u001b[38;5;66;03m# i.e. the open ball is empty. Then just \"guess\" the dimension as 0.\u001b[39;00m\n\u001b[0;32m     69\u001b[0m     \u001b[38;5;28;01mreturn\u001b[39;00m i, \u001b[38;5;241m0\u001b[39m, \u001b[38;5;28;01mNone\u001b[39;00m\n",
      "File \u001b[1;32mc:\\Users\\marka\\OneDrive\\Documents\\Uni\\Edinburgh Uni\\RSCAM\\S2 paper review\\numerical_experiments\\estimators.py:17\u001b[0m, in \u001b[0;36mopen_ball_subset\u001b[1;34m(X, i, r)\u001b[0m\n\u001b[0;32m     14\u001b[0m \u001b[38;5;28;01mif\u001b[39;00m j \u001b[38;5;241m==\u001b[39m i:\n\u001b[0;32m     15\u001b[0m     \u001b[38;5;66;03m# by definition in their paper W does not include the point itself\u001b[39;00m\n\u001b[0;32m     16\u001b[0m     \u001b[38;5;28;01mcontinue\u001b[39;00m\n\u001b[1;32m---> 17\u001b[0m \u001b[38;5;28;01melif\u001b[39;00m \u001b[43mnp\u001b[49m\u001b[38;5;241;43m.\u001b[39;49m\u001b[43mlinalg\u001b[49m\u001b[38;5;241;43m.\u001b[39;49m\u001b[43mnorm\u001b[49m\u001b[43m(\u001b[49m\u001b[43mX\u001b[49m\u001b[43m[\u001b[49m\u001b[43mj\u001b[49m\u001b[43m]\u001b[49m\u001b[43m \u001b[49m\u001b[38;5;241;43m-\u001b[39;49m\u001b[43m \u001b[49m\u001b[43mX\u001b[49m\u001b[43m[\u001b[49m\u001b[43mi\u001b[49m\u001b[43m]\u001b[49m\u001b[43m,\u001b[49m\u001b[43m \u001b[49m\u001b[38;5;241;43m2\u001b[39;49m\u001b[43m)\u001b[49m \u001b[38;5;241m<\u001b[39m r:\n\u001b[0;32m     18\u001b[0m     \u001b[38;5;28;01mif\u001b[39;00m W \u001b[38;5;129;01mis\u001b[39;00m \u001b[38;5;129;01mnot\u001b[39;00m \u001b[38;5;28;01mNone\u001b[39;00m:\n\u001b[0;32m     19\u001b[0m         W \u001b[38;5;241m=\u001b[39m np\u001b[38;5;241m.\u001b[39mvstack((W, X[j]))\n",
      "File \u001b[1;32mc:\\Users\\marka\\AppData\\Local\\Programs\\Python\\Python311\\Lib\\site-packages\\numpy\\linalg\\linalg.py:2552\u001b[0m, in \u001b[0;36mnorm\u001b[1;34m(x, ord, axis, keepdims)\u001b[0m\n\u001b[0;32m   2550\u001b[0m     sqnorm \u001b[38;5;241m=\u001b[39m x_real\u001b[38;5;241m.\u001b[39mdot(x_real) \u001b[38;5;241m+\u001b[39m x_imag\u001b[38;5;241m.\u001b[39mdot(x_imag)\n\u001b[0;32m   2551\u001b[0m \u001b[38;5;28;01melse\u001b[39;00m:\n\u001b[1;32m-> 2552\u001b[0m     sqnorm \u001b[38;5;241m=\u001b[39m \u001b[43mx\u001b[49m\u001b[38;5;241;43m.\u001b[39;49m\u001b[43mdot\u001b[49m\u001b[43m(\u001b[49m\u001b[43mx\u001b[49m\u001b[43m)\u001b[49m\n\u001b[0;32m   2553\u001b[0m ret \u001b[38;5;241m=\u001b[39m sqrt(sqnorm)\n\u001b[0;32m   2554\u001b[0m \u001b[38;5;28;01mif\u001b[39;00m keepdims:\n",
      "\u001b[1;31mKeyboardInterrupt\u001b[0m: "
     ]
    }
   ],
   "source": [
    "d = 3\n",
    "m = 1000*R_sphere # the surface area scales by approx R_sphere for each dimension we add\n",
    "num_tests = 10\n",
    "ss = np.linspace(0, r, num_tests)\n",
    "prop_correct_3d = np.zeros(num_tests)\n",
    "\n",
    "for i, s in enumerate(ss):\n",
    "    print(f\"{s=}\")\n",
    "    X = mh.noisy_sphere(d, R_sphere, s, m)\n",
    "    results = estimators.tgt_and_dim_estimates(X, r, eta, verbose = True)\n",
    "    estimated_dimensions = np.array([res[1] for res in results])\n",
    "    prop_correct_3d[i] = np.sum(estimated_dimensions == d) / m"
   ]
  },
  {
   "cell_type": "code",
   "execution_count": 14,
   "metadata": {},
   "outputs": [],
   "source": [
    "np.save(\"X_S3.npy\", X)"
   ]
  },
  {
   "cell_type": "code",
   "execution_count": null,
   "metadata": {},
   "outputs": [],
   "source": []
  }
 ],
 "metadata": {
  "kernelspec": {
   "display_name": "Python 3",
   "language": "python",
   "name": "python3"
  },
  "language_info": {
   "codemirror_mode": {
    "name": "ipython",
    "version": 3
   },
   "file_extension": ".py",
   "mimetype": "text/x-python",
   "name": "python",
   "nbconvert_exporter": "python",
   "pygments_lexer": "ipython3",
   "version": "3.11.4"
  }
 },
 "nbformat": 4,
 "nbformat_minor": 2
}
