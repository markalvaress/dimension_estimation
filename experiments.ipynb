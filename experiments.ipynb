{
 "cells": [
  {
   "cell_type": "code",
   "execution_count": 5,
   "metadata": {},
   "outputs": [],
   "source": [
    "import estimators\n",
    "import math_helpers as mh\n",
    "import constants\n",
    "import matplotlib.pyplot as plt\n",
    "import importlib\n",
    "import numpy as np"
   ]
  },
  {
   "cell_type": "code",
   "execution_count": 9,
   "metadata": {},
   "outputs": [
    {
     "data": {
      "text/plain": [
       "<module 'math_helpers' from 'c:\\\\Users\\\\marka\\\\OneDrive\\\\Documents\\\\Uni\\\\Edinburgh Uni\\\\RSCAM\\\\S2 paper review\\\\numerical_experiments\\\\math_helpers.py'>"
      ]
     },
     "execution_count": 9,
     "metadata": {},
     "output_type": "execute_result"
    }
   ],
   "source": [
    "importlib.reload(estimators)\n",
    "importlib.reload(mh)"
   ]
  },
  {
   "cell_type": "code",
   "execution_count": null,
   "metadata": {},
   "outputs": [],
   "source": [
    "# Set parameters:\n",
    "d = 3           # actual intrinsic dimension of manifold\n",
    "D = d+1         # ambient dimension - since we're using spheres, these will all sit in R^(d+1)\n",
    "m = 1000        # number of points in our data set sampled (noisily) from the manifold\n",
    "eta = 1/(2.001*D)    # parameter for dimension estimation (threshold)\n",
    "R_sphere = 20   # radius of sphere\n",
    "tau = R_sphere  # the \"reach\" of our manifold - i.e. how much we can fatten it without self intersection\n",
    "s = 1e-16       # size to bound the noise around the manifold\n",
    "delta = 0.5     # parameter controlling how sure you are of your dimension estimate\n",
    "rho = 0.5       # parameter that controls what proportion of your guesses you want to be correct\n",
    "w_d = mh.ball_volume(d, 1)  # volume of unit ball in d dimensions\n",
    "alpha = 1/R_sphere          # Lipschitz constant of probability density function\n",
    "r = np.sqrt(2*tau*s)*1.001           # radius of open ball to use as neighbourhood when estimating dimension\n",
    "\n",
    "unit_surface_area = mh.sphere_surface_area(d, 1)    # for Phi_r and phi_max we have some terms of R^d / area(S_r^d), which is equivalent to 1 / area(S_1^d)\n",
    "Phi_r = mh.calculate_measure_concentration_uniform_sphere(r, R_sphere, R_sphere**d * unit_surface_area, d, tau, s)     # this is the \n",
    "phi_max = 1/unit_surface_area                       # max of probability density function\n",
    "\n",
    "S1 = constants.S1_dimension(d, D, eta, alpha, tau, Phi_r, phi_max)\n",
    "S2 = constants.S2_dimension(d, D, eta, w_d, delta, rho, Phi_r)"
   ]
  },
  {
   "cell_type": "markdown",
   "metadata": {},
   "source": [
    "## Do these parameters meet the bounds?"
   ]
  },
  {
   "cell_type": "code",
   "execution_count": 17,
   "metadata": {},
   "outputs": [
    {
     "name": "stdout",
     "output_type": "stream",
     "text": [
      "eta < 1/(2*D)=True\n",
      "np.sqrt(2*tau*s) < S1=False\n",
      "r >= np.sqrt(2*tau*s)=True\n",
      "r <= S1=False\n",
      "m*r**d/np.log(m) >= S2=False\n"
     ]
    }
   ],
   "source": [
    "print(f\"{eta < 1/(2*D)=}\")\n",
    "print(f\"{np.sqrt(2*tau*s) < S1=}\")\n",
    "print(f\"{r >= np.sqrt(2*tau*s)=}\")\n",
    "print(f\"{r <= S1=}\")\n",
    "print(f\"{m*r**d/np.log(m) >= S2=}\")"
   ]
  },
  {
   "cell_type": "code",
   "execution_count": 18,
   "metadata": {},
   "outputs": [
    {
     "data": {
      "text/plain": [
       "2.9335833302106914e-12"
      ]
     },
     "execution_count": 18,
     "metadata": {},
     "output_type": "execute_result"
    }
   ],
   "source": [
    "S1"
   ]
  },
  {
   "cell_type": "code",
   "execution_count": null,
   "metadata": {},
   "outputs": [
    {
     "data": {
      "text/plain": [
       "0.0005159011865114117"
      ]
     },
     "execution_count": 58,
     "metadata": {},
     "output_type": "execute_result"
    }
   ],
   "source": [
    "# yeah bro this would require exabytes of storage to have this many samples.\n",
    "\n",
    "m_ = 10**19\n",
    "m_*r**d/np.log(m_)"
   ]
  },
  {
   "cell_type": "markdown",
   "metadata": {},
   "source": [
    "## Experimenting"
   ]
  },
  {
   "cell_type": "code",
   "execution_count": null,
   "metadata": {},
   "outputs": [],
   "source": [
    "X = estimators.noisy_sphere(d, R_sphere, s, m)"
   ]
  },
  {
   "cell_type": "code",
   "execution_count": null,
   "metadata": {},
   "outputs": [],
   "source": [
    "fig = plt.figure()\n",
    "ax = fig.add_subplot(projection = '3d')\n",
    "\n",
    "ax.scatter(X[:,0], X[:,1], X[:,2])\n",
    "plt.show()"
   ]
  },
  {
   "cell_type": "code",
   "execution_count": null,
   "metadata": {},
   "outputs": [],
   "source": [
    "# how do we choose threshold eta?\n",
    "# theorem B: eta needs to be less than 1/(2D), where D is the ambient dimension\n",
    "\n",
    "d, P = estimators.tgt_and_dim_estimators(X, 3, 0.001)\n",
    "d"
   ]
  }
 ],
 "metadata": {
  "kernelspec": {
   "display_name": "Python 3",
   "language": "python",
   "name": "python3"
  },
  "language_info": {
   "codemirror_mode": {
    "name": "ipython",
    "version": 3
   },
   "file_extension": ".py",
   "mimetype": "text/x-python",
   "name": "python",
   "nbconvert_exporter": "python",
   "pygments_lexer": "ipython3",
   "version": "3.11.4"
  }
 },
 "nbformat": 4,
 "nbformat_minor": 2
}
