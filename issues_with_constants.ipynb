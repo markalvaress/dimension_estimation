{
 "cells": [
  {
   "cell_type": "markdown",
   "metadata": {},
   "source": [
    "# Issues with constants"
   ]
  },
  {
   "cell_type": "code",
   "execution_count": null,
   "metadata": {},
   "outputs": [],
   "source": [
    "import math_helpers as mh\n",
    "import constants\n",
    "import numpy as np"
   ]
  },
  {
   "cell_type": "code",
   "execution_count": null,
   "metadata": {},
   "outputs": [],
   "source": [
    "# Set parameters:\n",
    "d = 2           # actual intrinsic dimension of manifold\n",
    "D = d+1         # ambient dimension - since we're using spheres, these will all sit in R^(d+1)\n",
    "m = 1000        # number of points in our data set sampled (noisily) from the manifold\n",
    "eta = 1/(2.001*D)    # parameter for dimension estimation (threshold)\n",
    "R_sphere = 20   # radius of sphere\n",
    "tau = R_sphere  # the \"reach\" of our manifold - i.e. how much we can fatten it without self intersection\n",
    "s = 1e-16       # size to bound the noise around the manifold\n",
    "delta = 0.5     # parameter controlling how sure you are of your dimension estimate\n",
    "rho = 0.5       # parameter that controls what proportion of your guesses you want to be correct\n",
    "w_d = mh.ball_volume(d, 1)  # volume of unit ball in d dimensions\n",
    "alpha = 1/R_sphere          # Lipschitz constant of probability density function\n",
    "r = 1e-10           # radius of open ball to use as neighbourhood when estimating dimension\n",
    "\n",
    "unit_surface_area = mh.sphere_surface_area(d, 1)    # for Phi_r and phi_max we have some terms of R^d / area(S_r^d), which is equivalent to 1 / area(S_1^d)\n",
    "Phi_r = mh.calculate_measure_concentration_uniform_sphere(r, R_sphere, R_sphere**d * unit_surface_area, d, tau, s)     # this is the \n",
    "phi_max = 1/unit_surface_area                       # max of probability density function\n",
    "\n",
    "S1 = constants.S1_dimension(d, D, eta, alpha, tau, Phi_r, phi_max)\n",
    "S2 = constants.S2_dimension(d, D, eta, w_d, delta, rho, Phi_r)"
   ]
  },
  {
   "cell_type": "markdown",
   "metadata": {},
   "source": [
    "## How small do I have to make $r$ until it is smaller than $S_1$?"
   ]
  },
  {
   "cell_type": "code",
   "execution_count": null,
   "metadata": {},
   "outputs": [],
   "source": [
    "r =  1\n",
    "n_iters = 0\n",
    "while S1 < r and n_iters < 30:\n",
    "    r /= 10\n",
    "\n",
    "    Phi_r = mh.calculate_measure_concentration_uniform_sphere(r, R_sphere, R_sphere**d * unit_surface_area, d, tau, s)\n",
    "    S1 = constants.S1_dimension(d, D, eta, alpha, tau, Phi_r, phi_max)\n",
    "    n_iters += 1\n",
    "\n",
    "print(f\"{r=}, {S1=}\")"
   ]
  },
  {
   "cell_type": "markdown",
   "metadata": {},
   "source": [
    "now I need $\\sqrt{2s} \\leq r$, i.e. $s \\leq 0.5 \\times 10^{-20}$."
   ]
  },
  {
   "cell_type": "markdown",
   "metadata": {},
   "source": [
    "## How many samples do I need?"
   ]
  },
  {
   "cell_type": "code",
   "execution_count": null,
   "metadata": {},
   "outputs": [],
   "source": [
    "S2 = constants.S2_dimension(d, D, eta, w_d, delta, rho, Phi_r)\n",
    "S2 / r**d"
   ]
  }
 ],
 "metadata": {
  "kernelspec": {
   "display_name": "Python 3",
   "language": "python",
   "name": "python3"
  },
  "language_info": {
   "codemirror_mode": {
    "name": "ipython",
    "version": 3
   },
   "file_extension": ".py",
   "mimetype": "text/x-python",
   "name": "python",
   "nbconvert_exporter": "python",
   "pygments_lexer": "ipython3",
   "version": "3.11.4"
  }
 },
 "nbformat": 4,
 "nbformat_minor": 2
}
